{
 "cells": [
  {
   "cell_type": "markdown",
   "metadata": {},
   "source": [
    "# Implementing HF\n",
    "There are a great number of public or commercial softwares (see the [Wikipedia page](https://en.wikipedia.org/wiki/List_of_quantum_chemistry_and_solid-state_physics_software)) for quantum chemistry / solid-state physics calculations, including HF methods, FCI methods, or DFT, etc. Here, we will try to implement my own version of restricted Hartree Fock (RHF) method. The most tedious part of implementation is the evaluation of integral of basis functions, but luckily, there is a nice pakcage [pyQInt](https://pyqint.imc-tue.nl/index.html) supports easy manipulation of basis functions and will be used here."
   ]
  },
  {
   "cell_type": "markdown",
   "metadata": {},
   "source": [
    "## The basis set\n"
   ]
  },
  {
   "cell_type": "markdown",
   "metadata": {},
   "source": []
  }
 ],
 "metadata": {
  "language_info": {
   "name": "python"
  }
 },
 "nbformat": 4,
 "nbformat_minor": 2
}
