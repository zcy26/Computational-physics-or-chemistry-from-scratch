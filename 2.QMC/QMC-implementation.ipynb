{
 "cells": [
  {
   "cell_type": "markdown",
   "metadata": {},
   "source": [
    "# VMC Implementation\n",
    "A naive version of VMC is implemented in the directory QauantumMC. A simple test is given here and also in the script `sample_test.py`, where MC is used for the HF wave function of H2 with no Jastrow factor. However, due to limited computation power the the naivety of implementation, my naive MC cannot even precisely reproduce the HF energy, let along optimizing a variational Jastrow factor. Since the only purpose of implementation is to learn VMC, I will not further optimize the implmentation here."
   ]
  },
  {
   "cell_type": "code",
   "execution_count": 1,
   "metadata": {},
   "outputs": [
    {
     "name": "stdout",
     "output_type": "stream",
     "text": [
      "converged SCF energy = -1.09480796286051\n",
      "start sampling\n",
      "samples: 5000/50000\n",
      "samples: 10000/50000\n",
      "samples: 15000/50000\n",
      "samples: 20000/50000\n",
      "samples: 25000/50000\n",
      "samples: 30000/50000\n",
      "samples: 35000/50000\n",
      "samples: 40000/50000\n",
      "samples: 45000/50000\n",
      "-1.0601584314054266 0.1064782285868361 50000\n"
     ]
    }
   ],
   "source": [
    "import pyscf\n",
    "from QuantumMC.VMC.sample import VMC_E\n",
    "from QuantumMC.ansatz import molecule\n",
    "import numpy as np\n",
    "\n",
    "trial_point = np.array([[-0.05317037, -0.07002718,  0.0897823],\n",
    "                        [-0.00266115,  0.00061476, -0.04018687]])\n",
    "# [0.1, 0.3, 0.2]])\n",
    "mol = pyscf.gto.M(atom=\"H 0 0 0; H 0 0 1\", basis=\"6-31g\", spin=0)\n",
    "mf = pyscf.scf.RHF(mol)\n",
    "mf.kernel()\n",
    "mol_SJ = molecule.Pure_det(mf, elec_pos=trial_point, params=np.array([]))\n",
    "sample, E_mean, E_var, n = VMC_E(1, init_state=trial_point, sigma=0.1, ansatz=mol_SJ,\n",
    "                                 n_cut=10000, n_interval=20, n_sample=50000, E_only=False,\n",
    "                                 verbose=True)\n",
    "print(E_mean, E_var, n)"
   ]
  },
  {
   "cell_type": "markdown",
   "metadata": {},
   "source": [
    "Several improvements can be made to my naive implementation (not made here):\n",
    "- Calculate the local kinetic energy analytically. It is calculated numeically in my current implementation. We can define the ansatz object in the implementation to record the local information including D, transpose of inverse of D, E_L, v_D, etc. The accessing function may just return the value with a littile computation.\n",
    "- Update the wave function and local energy after a single-electron move (e.g., [1]). In the current implementation everything is recalculated after perturbation.\n",
    "\n",
    "Reference\n",
    "[1] S. Fahy, X. W. Wang, and S. G. Louie, Variational Quantum Monte Carlo Nonlocal Pseudopotential Approach to Solids: Formulation and Application to Diamond, Graphite, and Silicon, Phys. Rev. B 42, 3503 (1990).\n"
   ]
  },
  {
   "cell_type": "markdown",
   "metadata": {},
   "source": [
    "# DMC implementation"
   ]
  }
 ],
 "metadata": {
  "kernelspec": {
   "display_name": "quantComp",
   "language": "python",
   "name": "python3"
  },
  "language_info": {
   "codemirror_mode": {
    "name": "ipython",
    "version": 3
   },
   "file_extension": ".py",
   "mimetype": "text/x-python",
   "name": "python",
   "nbconvert_exporter": "python",
   "pygments_lexer": "ipython3",
   "version": "3.10.13"
  }
 },
 "nbformat": 4,
 "nbformat_minor": 2
}
